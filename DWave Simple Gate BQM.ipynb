{
 "cells": [
  {
   "cell_type": "code",
   "execution_count": 1,
   "metadata": {},
   "outputs": [],
   "source": [
    "from dwave.system import DWaveSampler, EmbeddingComposite\n",
    "sampler = DWaveSampler()\n",
    "sampler_embedded = EmbeddingComposite(sampler)"
   ]
  },
  {
   "cell_type": "code",
   "execution_count": 2,
   "metadata": {},
   "outputs": [
    {
     "name": "stdout",
     "output_type": "stream",
     "text": [
      "  x1 x2  z energy num_oc. chain_.\n",
      "0  1  0  0    0.0     833     0.0\n",
      "1  0  0  0    0.0     967     0.0\n",
      "2  0  1  0    0.0    1673     0.0\n",
      "3  1  1  1    0.0    1526     0.0\n",
      "4  1  1  0    1.0       1     0.0\n",
      "['BINARY', 5 rows, 5000 samples, 3 variables]\n"
     ]
    }
   ],
   "source": [
    "Q_and = {('x1', 'x2'): 1, ('x1', 'z'): -2, ('x2', 'z'): -2, ('z', 'z'): 3}\n",
    "sampleset = sampler_embedded.sample_qubo(Q_and, num_reads = 5000)\n",
    "print(sampleset)  "
   ]
  },
  {
   "cell_type": "code",
   "execution_count": null,
   "metadata": {},
   "outputs": [],
   "source": []
  }
 ],
 "metadata": {
  "kernelspec": {
   "display_name": "ocean",
   "language": "python",
   "name": "ocean"
  },
  "language_info": {
   "codemirror_mode": {
    "name": "ipython",
    "version": 3
   },
   "file_extension": ".py",
   "mimetype": "text/x-python",
   "name": "python",
   "nbconvert_exporter": "python",
   "pygments_lexer": "ipython3",
   "version": "3.9.2"
  }
 },
 "nbformat": 4,
 "nbformat_minor": 4
}
